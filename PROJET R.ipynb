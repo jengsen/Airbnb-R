{
 "cells": [
  {
   "cell_type": "markdown",
   "metadata": {},
   "source": [
    "Le Département de police de Boston (BPD) fournit des rapports d'incident criminel pour documenter les premiers détails entourant un incident auquel les officiers du BPD répondent. Il s'agit d'un ensemble de données contenant des enregistrements du nouveau système de rapport d'incident criminel, qui comprend un ensemble réduit de champs axés sur la capture du type d'incident, ainsi que sur le moment et le lieu où il s'est produit."
   ]
  },
  {
   "cell_type": "code",
   "execution_count": 14,
   "metadata": {},
   "outputs": [],
   "source": [
    "#  Data\n",
    "calendar <- read.csv('airbnb-amsterdam/calendar.csv')\n",
    "listings_details <- read.csv('airbnb-amsterdam/listings_details.csv')\n",
    "listings <- read.csv('airbnb-amsterdam/listings.csv')\n",
    "neighbourhoods <- read.csv('airbnb-amsterdam/neighbourhoods.csv')\n",
    "reviews_details <- read.csv('airbnb-amsterdam/reviews_details.csv')\n",
    "reviews <- read.csv('airbnb-amsterdam/reviews.csv')"
   ]
  },
  {
   "cell_type": "code",
   "execution_count": 15,
   "metadata": {},
   "outputs": [
    {
     "data": {
      "text/html": [
       "0"
      ],
      "text/latex": [
       "0"
      ],
      "text/markdown": [
       "0"
      ],
      "text/plain": [
       "[1] 0"
      ]
     },
     "metadata": {},
     "output_type": "display_data"
    }
   ],
   "source": [
    "listings_details<- read.csv('airbnb-amsterdam/listings_details.csv')\n",
    "sum(is.na(listings_details$price))"
   ]
  },
  {
   "cell_type": "code",
   "execution_count": 24,
   "metadata": {},
   "outputs": [
    {
     "data": {
      "text/html": [
       "0"
      ],
      "text/latex": [
       "0"
      ],
      "text/markdown": [
       "0"
      ],
      "text/plain": [
       "[1] 0"
      ]
     },
     "metadata": {},
     "output_type": "display_data"
    },
    {
     "data": {
      "text/html": [
       "120750"
      ],
      "text/latex": [
       "120750"
      ],
      "text/markdown": [
       "120750"
      ],
      "text/plain": [
       "[1] 120750"
      ]
     },
     "metadata": {},
     "output_type": "display_data"
    },
    {
     "data": {
      "text/html": [
       "22436"
      ],
      "text/latex": [
       "22436"
      ],
      "text/markdown": [
       "22436"
      ],
      "text/plain": [
       "[1] 22436"
      ]
     },
     "metadata": {},
     "output_type": "display_data"
    },
    {
     "data": {
      "text/html": [
       "22"
      ],
      "text/latex": [
       "22"
      ],
      "text/markdown": [
       "22"
      ],
      "text/plain": [
       "[1] 22"
      ]
     },
     "metadata": {},
     "output_type": "display_data"
    },
    {
     "data": {
      "text/html": [
       "2"
      ],
      "text/latex": [
       "2"
      ],
      "text/markdown": [
       "2"
      ],
      "text/plain": [
       "[1] 2"
      ]
     },
     "metadata": {},
     "output_type": "display_data"
    },
    {
     "data": {
      "text/html": [
       "0"
      ],
      "text/latex": [
       "0"
      ],
      "text/markdown": [
       "0"
      ],
      "text/plain": [
       "[1] 0"
      ]
     },
     "metadata": {},
     "output_type": "display_data"
    }
   ],
   "source": [
    "sum(is.na(calendar))\n",
    "sum(is.na(listings_details))\n",
    "sum(is.na(listings))\n",
    "sum(is.na(neighbourhoods))\n",
    "sum(is.na(reviews_details))\n",
    "sum(is.na(reviews))"
   ]
  },
  {
   "cell_type": "code",
   "execution_count": null,
   "metadata": {},
   "outputs": [],
   "source": [
    "total <- merge(donations,donors)"
   ]
  },
  {
   "cell_type": "code",
   "execution_count": null,
   "metadata": {},
   "outputs": [],
   "source": [
    "#  Data\n",
    "donations <- read.csv('donation/Donations.csv')\n",
    "donors <- read.csv('donation/Donors.csv')\n",
    "projects <- read.csv('donation/Projects.csv')\n",
    "ressouces <- read.csv('donation/Ressources.csv')\n",
    "school <- read.csv('donation/Schools.csv')\n",
    "teacher <- read.csv('donation/Teachers.csv')"
   ]
  }
 ],
 "metadata": {
  "kernelspec": {
   "display_name": "R",
   "language": "R",
   "name": "ir"
  },
  "language_info": {
   "codemirror_mode": "r",
   "file_extension": ".r",
   "mimetype": "text/x-r-source",
   "name": "R",
   "pygments_lexer": "r",
   "version": "3.6.0"
  }
 },
 "nbformat": 4,
 "nbformat_minor": 2
}
